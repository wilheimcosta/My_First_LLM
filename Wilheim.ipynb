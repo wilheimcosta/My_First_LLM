{
  "nbformat": 4,
  "nbformat_minor": 0,
  "metadata": {
    "colab": {
      "provenance": [],
      "authorship_tag": "ABX9TyOeqpNAmOJ0l2xxZXVNxdQm",
      "include_colab_link": true
    },
    "kernelspec": {
      "name": "python3",
      "display_name": "Python 3"
    },
    "language_info": {
      "name": "python"
    }
  },
  "cells": [
    {
      "cell_type": "markdown",
      "metadata": {
        "id": "view-in-github",
        "colab_type": "text"
      },
      "source": [
        "<a href=\"https://colab.research.google.com/github/wilheimcosta/My_First_LLM/blob/main/Wilheim.ipynb\" target=\"_parent\"><img src=\"https://colab.research.google.com/assets/colab-badge.svg\" alt=\"Open In Colab\"/></a>"
      ]
    },
    {
      "cell_type": "code",
      "execution_count": null,
      "metadata": {
        "id": "9oge6EP73WF2"
      },
      "outputs": [],
      "source": [
        "pip install -q -U google-generativeai"
      ]
    },
    {
      "cell_type": "code",
      "source": [
        "# Import the Python SDK\n",
        "import google.generativeai as genai\n",
        "# Used to securely store your API key\n",
        "from google.colab import userdata\n",
        "\n",
        "GOOGLE_API_KEY=userdata.get('GOOGLE_API_KEY')\n",
        "genai.configure(api_key=GOOGLE_API_KEY)"
      ],
      "metadata": {
        "id": "Gp2aDqcy42Do"
      },
      "execution_count": null,
      "outputs": []
    },
    {
      "cell_type": "code",
      "source": [
        "#Listando os modelos disponíveis\n",
        "for m in genai.list_models():\n",
        "  if 'generateContent' in m.supported_generation_methods:\n",
        "    print(m.name)"
      ],
      "metadata": {
        "colab": {
          "base_uri": "https://localhost:8080/",
          "height": 139
        },
        "id": "AzHS4E9OBAYN",
        "outputId": "e0267a74-c518-42bb-e0c9-23bd0b374602"
      },
      "execution_count": null,
      "outputs": [
        {
          "output_type": "stream",
          "name": "stdout",
          "text": [
            "models/gemini-1.0-pro\n",
            "models/gemini-1.0-pro-001\n",
            "models/gemini-1.0-pro-latest\n",
            "models/gemini-1.0-pro-vision-latest\n",
            "models/gemini-1.5-pro-latest\n",
            "models/gemini-pro\n",
            "models/gemini-pro-vision\n"
          ]
        }
      ]
    },
    {
      "cell_type": "code",
      "execution_count": null,
      "metadata": {
        "id": "O1ochaeyDn_o"
      },
      "outputs": [],
      "source": [
        "generation_config = {\n",
        "  \"candidate_count\": 1,\n",
        "  \"temperature\": 0.5,\n",
        "}"
      ]
    },
    {
      "cell_type": "code",
      "execution_count": null,
      "metadata": {
        "id": "jwBv7DofDofw"
      },
      "outputs": [],
      "source": [
        "safety_settings={\n",
        "    'HATE': 'BLOCK_NONE',\n",
        "    'HARASSMENT': 'BLOCK_NONE',\n",
        "    'SEXUAL' : 'BLOCK_NONE',\n",
        "    'DANGEROUS' : 'BLOCK_NONE'\n",
        "    }"
      ]
    },
    {
      "cell_type": "code",
      "source": [
        "model = genai.GenerativeModel(model_name='gemini-1.0-pro',\n",
        "                                  generation_config=generation_config,\n",
        "                                  safety_settings=safety_settings,)"
      ],
      "metadata": {
        "id": "ogu_fhFaFQkm"
      },
      "execution_count": null,
      "outputs": []
    },
    {
      "cell_type": "code",
      "source": [
        "response = model.generate_content(\"Que empresa criou o modelo de IA Gemini?\")\n",
        "print(response.text)"
      ],
      "metadata": {
        "colab": {
          "base_uri": "https://localhost:8080/",
          "height": 34
        },
        "id": "5GtibhxpGlsp",
        "outputId": "7fc8deba-bca1-459f-de03-afc21fe748b0"
      },
      "execution_count": null,
      "outputs": [
        {
          "output_type": "stream",
          "name": "stdout",
          "text": [
            "Google\n"
          ]
        }
      ]
    },
    {
      "cell_type": "code",
      "source": [
        "#Melhorando a visualização\n",
        "#Código disponível em https://ai.google.dev/tutorials/python_quickstart#import_packages\n",
        "import textwrap\n",
        "from IPython.display import display\n",
        "from IPython.display import Markdown\n",
        "\n",
        "def to_markdown(text):\n",
        "  text = text.replace('•', '  *')\n",
        "  return Markdown(textwrap.indent(text, '> ', predicate=lambda _: True))\n",
        "\n",
        "#Imprimindo o histórico\n",
        "for message in chat.history:\n",
        "  display(to_markdown(f'**{message.role}**: {message.parts[0].text}'))\n",
        "  print('-------------------------------------------')"
      ],
      "metadata": {
        "colab": {
          "base_uri": "https://localhost:8080/",
          "height": 142
        },
        "id": "QJI3-SM6Rc9V",
        "outputId": "1fb6118d-e1ae-40a1-8e02-861c2d559edf"
      },
      "execution_count": null,
      "outputs": [
        {
          "output_type": "display_data",
          "data": {
            "text/plain": [
              "<IPython.core.display.Markdown object>"
            ],
            "text/markdown": "> **user**: Qual a capital do Brasil?"
          },
          "metadata": {}
        },
        {
          "output_type": "stream",
          "name": "stdout",
          "text": [
            "-------------------------------------------\n"
          ]
        },
        {
          "output_type": "display_data",
          "data": {
            "text/plain": [
              "<IPython.core.display.Markdown object>"
            ],
            "text/markdown": "> **model**: Brasília"
          },
          "metadata": {}
        },
        {
          "output_type": "stream",
          "name": "stdout",
          "text": [
            "-------------------------------------------\n"
          ]
        }
      ]
    },
    {
      "cell_type": "code",
      "source": [
        "#Melhorando a visualização\n",
        "#Código disponível em https://ai.google.dev/tutorials/python_quickstart#import_packages\n",
        "import textwrap\n",
        "from IPython.display import display\n",
        "from IPython.display import Markdown\n",
        "\n",
        "def to_markdown(text):\n",
        "  text = text.replace('•', '  *')\n",
        "  return Markdown(textwrap.indent(text, '> ', predicate=lambda _: True))\n",
        "\n",
        "chat = model.start_chat(history=[])\n",
        "\n",
        "prompt = input('Esperando prompt: ')\n",
        "\n",
        "while prompt != \"fim\":\n",
        "  response = chat.send_message(prompt)\n",
        "  print(\"Resposta:\", response.text, '\\n\\n')\n",
        "  prompt = input('Esperando prompt: ')"
      ],
      "metadata": {
        "colab": {
          "base_uri": "https://localhost:8080/"
        },
        "id": "pVUjd2OgHn92",
        "outputId": "3cfa063e-1ba7-47af-da03-029b2c8dcb0f"
      },
      "execution_count": null,
      "outputs": [
        {
          "metadata": {
            "tags": null
          },
          "name": "stdout",
          "output_type": "stream",
          "text": [
            "Resposta: Uma frente fria é uma fronteira entre uma massa de ar frio e uma massa de ar quente. Ela se move na direção da massa de ar quente e a empurra para cima.\n",
            "\n",
            "**Características:**\n",
            "\n",
            "* **Temperatura:** O ar atrás da frente fria é mais frio do que o ar à sua frente.\n",
            "* **Pressão:** A pressão atmosférica aumenta atrás da frente fria.\n",
            "* **Umidade:** O ar atrás da frente fria é geralmente mais seco.\n",
            "* **Nuvens:** As frentes frias geralmente trazem nuvens de chuva, tempestades e até mesmo neve.\n",
            "* **Vento:** Os ventos sopram paralelos à frente fria, do ar frio para o ar quente.\n",
            "\n",
            "**Efeitos:**\n",
            "\n",
            "* **Chuva ou neve:** Quando a massa de ar quente é forçada a subir, ela se resfria e condensa, formando nuvens e precipitação.\n",
            "* **Ventos fortes:** Os ventos fortes podem soprar à frente da frente fria, causando rajadas e tempestades de vento.\n",
            "* **Mudanças de temperatura:** A temperatura cai rapidamente quando a frente fria passa.\n",
            "* **Mudanças de pressão:** A pressão atmosférica aumenta atrás da frente fria, o que pode causar dores de cabeça e desconforto.\n",
            "\n",
            "**Tipos de frentes frias:**\n",
            "\n",
            "* **Frente fria:** Uma frente fria típica que se move na direção da massa de ar quente.\n",
            "* **Frente fria oclusa:** Uma frente fria que alcançou uma frente quente e a empurrou para cima.\n",
            "* **Frente fria estacionária:** Uma frente fria que não se move. \n",
            "\n",
            "\n",
            "Resposta: **Características termodinâmicas de uma frente fria:**\n",
            "\n",
            "* **Temperatura:** O ar atrás da frente fria é mais frio do que o ar à sua frente. A diferença de temperatura pode variar de alguns graus a vários graus Celsius.\n",
            "* **Densidade:** O ar frio é mais denso do que o ar quente, então a massa de ar frio atrás da frente fria é mais densa do que a massa de ar quente à sua frente.\n",
            "* **Pressão:** A pressão atmosférica aumenta atrás da frente fria. Isso ocorre porque o ar frio é mais denso e exerce mais pressão na superfície da Terra.\n",
            "* **Umidade:** O ar atrás da frente fria é geralmente mais seco do que o ar à sua frente. Isso ocorre porque o ar frio pode conter menos vapor d'água do que o ar quente.\n",
            "* **Estabilidade:** As frentes frias são geralmente estáveis, o que significa que elas tendem a manter sua estrutura e se mover em uma direção relativamente constante.\n",
            "\n",
            "**Outras características termodinâmicas:**\n",
            "\n",
            "* **Gradiente de temperatura:** A taxa de mudança de temperatura através da frente fria é chamada de gradiente de temperatura. Frentes frias com gradientes de temperatura mais íngremes são mais fortes e podem produzir condições climáticas mais severas.\n",
            "* **Ponto de orvalho:** O ponto de orvalho é a temperatura na qual o ar fica saturado com vapor d'água e a condensação ocorre. O ponto de orvalho geralmente cai atrás da frente fria, indicando que o ar está mais seco.\n",
            "* **Energia potencial de convecção disponível (CAPE):** A CAPE é uma medida da energia disponível para a convecção atmosférica. Frentes frias com alta CAPE podem produzir tempestades e outros tipos de clima severo.\n",
            "\n",
            "As características termodinâmicas de uma frente fria podem variar dependendo de fatores como a velocidade de movimento da frente, a diferença de temperatura entre as massas de ar e a estabilidade da atmosfera. \n",
            "\n",
            "\n"
          ]
        }
      ]
    }
  ]
}